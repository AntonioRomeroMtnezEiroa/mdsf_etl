{
 "cells": [
  {
   "cell_type": "markdown",
   "metadata": {},
   "source": [
    "# <h1><center><span style=\"color:steelblue\"> Generación de ficheros de metadatos y lectura de formatos en python/R </span></center></h1>\n",
    "\n",
    "Antonio Romero Martínez-Eiroa"
   ]
  },
  {
   "cell_type": "markdown",
   "metadata": {},
   "source": [
    "### <span style=\"color:steelblue\"> Introducción </span>\n",
    "\n",
    "\n",
    "Como se comentó al inicio de la asignatura, nos estamos familiarizando con el trabajo con herramientas Big Data, pero no podemos olvidarnos de que el objetivo es procesar datos.\n",
    "\n",
    "Es por eso que lo que tenemos que tener como objetivo es la generación de una \"librería\" de procesamiento de datos.\n",
    "\n",
    "Que va a comenzar con la lectura y tratamiento de información estructurada sobre fuentes de metainformación que contenga la estructura de los datos con los que trabajamos.\n",
    "\n",
    "Algunos de estos formatos son yalm y json.  Esta tarea consiste en, buscar información sobre estos formatos, e implementar sendas funciones ya sea en R o en python (recomendado), para poder leer este tipo de ficheros. ¿Se pueden leer con spark? ¿Qué tipo de bases de datos No SQL usa estructuras de datos similares?\n"
   ]
  },
  {
   "cell_type": "markdown",
   "metadata": {},
   "source": [
    "***"
   ]
  },
  {
   "cell_type": "markdown",
   "metadata": {},
   "source": [
    "### <span style=\"color:steelblue\"> Formato YAML </span>"
   ]
  },
  {
   "cell_type": "markdown",
   "metadata": {},
   "source": [
    "#### <span style=\"color:steelblue\"> Definición: </span>\n",
    "\n",
    "YAML (YAML Ain’t Markup Language - YAML no es otro lenguaje de marcado) es un formato de serialización de datos legible por humanos inspirado en lenguajes como XML, C, Python, Perl, así como el formato para correos electrónicos especificado en RFC 2822. Es más legible que un JSON y sobretodo que XML.\n",
    "\n",
    "Se utiliza normalmente para:\n",
    "1. Archivos de configuración\n",
    "2. Traducciones\n",
    "3. Representar información"
   ]
  },
  {
   "cell_type": "markdown",
   "metadata": {},
   "source": [
    "#### <span style=\"color:steelblue\"> Características: </span>\n",
    "\n",
    "- Los contenidos en YAML se describen utilizando el conjunto de caracteres imprimibles de Unicode, bien en UTF-8 o UTF-16.\n",
    "- La estructura del documento se denota indentando con espacios en blanco; sin embargo no se permite el uso de caracteres de tabulación para sangrar.\n",
    "- Los miembros de las listas se denotan encabezados por un guion ( - ) con un miembro por cada línea, o bien entre corchetes ( [   ] ) y separados por coma espacio ( ,   ).\n",
    "- Los vectores asociativos se representan usando los dos puntos seguidos por un espacio. en la forma \"clave: valor\", bien uno por línea o entre llaves ( {   } ) y separados por coma seguida de espacio ( ,   ).\n",
    "- Un valor de un vector asociativo viene precedido por un signo de interrogación ( ? ), lo que permite que se construyan claves complejas sin ambigüedad.\n",
    "- Los valores sencillos (o escalares) por lo general aparecen sin entrecomillar, pero pueden incluirse entre comillas dobles ( \" ), o comillas simples ( ' ).\n",
    "- En las comillas dobles, los caracteres especiales se pueden representar con secuencias de escape similares a las del lenguaje de programación C, que comienzan con una barra invertida ( \\ ).\n",
    "- Se pueden incluir múltiples documentos dentro de un único flujo, separándolos por tres guiones ( --- ); los tres puntos ( ... ) indican el fin de un documento dentro de un flujo.\n",
    "- Los nodos repetidos se pueden denotar con un ampersand ( & ) y ser referidos posteriormente usando el asterisco ( * )\n",
    "- Los comentarios vienen encabezados por la almohadilla ( # ) y continúan hasta el final de la línea.\n",
    "- Los nodos pueden etiquetarse con un tipo o etiqueta utilizando el signo de exclamación( ! ) seguido de una cadena que puede ser expandida en una URL.\n",
    "- Los documentos YAML pueden ser precedidos por directivas compuestas por un signo de porcentaje ( % ) seguidos de un nombre y parámetros delimitados por espacios.. Hay definidas dos directivas en YAML 1.1:\n",
    "   - La directiva %YAML se utiliza para identificar la versión de YAML en un documento dado.\n",
    "   - La directiva %TAG se utiliza como atajo para los prefijos de URIs. Estos atajos pueden ser usados en las etiquetas de tipos de nodos."
   ]
  },
  {
   "cell_type": "markdown",
   "metadata": {},
   "source": [
    "#### <span style=\"color:steelblue\"> Lectura de archivos YAML: </span>"
   ]
  },
  {
   "cell_type": "code",
   "execution_count": 18,
   "metadata": {},
   "outputs": [],
   "source": [
    "# Se importa la libreria \"yaml\"\n",
    "import yaml\n",
    "\n",
    "# Se carga el archivo\n",
    "with open('../data/travis.yml') as file:\n",
    "        p_models = yaml.load(file, Loader = yaml.FullLoader)\n"
   ]
  },
  {
   "cell_type": "code",
   "execution_count": 20,
   "metadata": {},
   "outputs": [
    {
     "name": "stdout",
     "output_type": "stream",
     "text": [
      "{'language': 'python', 'python': ['3.6'], 'stages': ['test'], 'install': ['sudo apt-get update', 'wget https://repo.continuum.io/miniconda/Miniconda3-latest-Linux-x86_64.sh -O miniconda.sh;', 'bash miniconda.sh -b -p $HOME/miniconda', 'export PATH=\"$HOME/miniconda/bin:$PATH\"', 'hash -r', 'conda config --set always_yes yes --set changeps1 no', 'conda update -q conda', 'conda info -a', 'conda create -q -n test-environment -c pytorch python=$TRAVIS_PYTHON_VERSION numpy mock pytorch-cpu', 'if [[ $TRAVIS_PYTHON_VERSION == 2.7 ]]; then pip install enum34; fi', 'source activate test-environment', 'python setup.py install', 'pip install --upgrade pytest', 'pip install -r requirements.txt'], 'script': ['python -m pytest -s tests'], 'after_success': ['codecov || echo \"codecov upload failed\"']}\n"
     ]
    }
   ],
   "source": [
    "# Se visualiza el archivo\n",
    "print(p_models) "
   ]
  },
  {
   "cell_type": "markdown",
   "metadata": {},
   "source": [
    "***"
   ]
  },
  {
   "cell_type": "markdown",
   "metadata": {},
   "source": [
    "### <span style=\"color:steelblue\"> Formato JSON </span>"
   ]
  },
  {
   "cell_type": "markdown",
   "metadata": {},
   "source": [
    "#### <span style=\"color:steelblue\"> Definición: </span>\n",
    "\n",
    "JSON (JavaScript Object Notation - Notación de Objetos de JavaScript) es un formato ligero de intercambio de datos. Leerlo y escribirlo es simple para humanos, mientras que para las máquinas es simple interpretarlo y generarlo. Está basado en un subconjunto del Lenguaje de Programación JavaScript, Standard ECMA-262 3rd Edition - Diciembre 1999. JSON es un formato de texto que es completamente independiente del lenguaje pero utiliza convenciones que son ampliamente conocidos por los programadores de la familia de lenguajes C, incluyendo C, C++, C#, Java, JavaScript, Perl, Python, y muchos otros. Estas propiedades hacen que JSON sea un lenguaje ideal para el intercambio de datos."
   ]
  },
  {
   "cell_type": "markdown",
   "metadata": {},
   "source": [
    "#### <span style=\"color:steelblue\"> Características: </span>\n",
    "\n",
    "- Números: Se permiten números negativos y opcionalmente pueden contener parte fraccional separada por puntos. \n",
    "- Cadenas: Representan secuencias de cero o más caracteres. Se ponen entre doble comilla y se permiten cadenas de escape. \n",
    "- Booleanos: Representan valores booleanos y pueden tener dos valores: true y false null: Representan el valor nulo.\n",
    "- Array: Representa una lista ordenada de cero o más valores los cuales pueden ser de cualquier tipo. Los valores se separan por comas y el vector se mete entre corchetes.\n",
    "- Objetos: Son colecciones no ordenadas de pares de la forma __< nombre >:< valor >__ \"separados por comas y puestas entre llaves. El nombre tiene que ser una cadena y entre ellas. El valor puede ser de cualquier tipo. "
   ]
  },
  {
   "cell_type": "markdown",
   "metadata": {},
   "source": [
    "#### <span style=\"color:steelblue\"> Lectura de archivos JSON: </span>"
   ]
  },
  {
   "cell_type": "code",
   "execution_count": 6,
   "metadata": {},
   "outputs": [],
   "source": [
    "# Se importa pandas\n",
    "import pandas as pd\n",
    "\n",
    "# Se carga el archivo mediante la función de pandas \"read_json\"\n",
    "gini = pd.read_json(\"../data/income-gini-ratio-of-families-by-race-of-householder-white-alone_metadata.json\", orient = \"columns\")"
   ]
  },
  {
   "cell_type": "code",
   "execution_count": 7,
   "metadata": {
    "scrolled": true
   },
   "outputs": [
    {
     "data": {
      "text/html": [
       "<div>\n",
       "<style scoped>\n",
       "    .dataframe tbody tr th:only-of-type {\n",
       "        vertical-align: middle;\n",
       "    }\n",
       "\n",
       "    .dataframe tbody tr th {\n",
       "        vertical-align: top;\n",
       "    }\n",
       "\n",
       "    .dataframe thead th {\n",
       "        text-align: right;\n",
       "    }\n",
       "</style>\n",
       "<table border=\"1\" class=\"dataframe\">\n",
       "  <thead>\n",
       "    <tr style=\"text-align: right;\">\n",
       "      <th></th>\n",
       "      <th>realtime_start</th>\n",
       "      <th>realtime_end</th>\n",
       "      <th>seriess</th>\n",
       "    </tr>\n",
       "  </thead>\n",
       "  <tbody>\n",
       "    <tr>\n",
       "      <th>0</th>\n",
       "      <td>2019-12-06</td>\n",
       "      <td>2019-12-06</td>\n",
       "      <td>{'id': 'GINIWAF', 'realtime_start': '2019-12-0...</td>\n",
       "    </tr>\n",
       "  </tbody>\n",
       "</table>\n",
       "</div>"
      ],
      "text/plain": [
       "  realtime_start realtime_end  \\\n",
       "0     2019-12-06   2019-12-06   \n",
       "\n",
       "                                             seriess  \n",
       "0  {'id': 'GINIWAF', 'realtime_start': '2019-12-0...  "
      ]
     },
     "execution_count": 7,
     "metadata": {},
     "output_type": "execute_result"
    }
   ],
   "source": [
    "# Se observa el archivo cargado\n",
    "gini"
   ]
  },
  {
   "cell_type": "markdown",
   "metadata": {},
   "source": [
    "***"
   ]
  },
  {
   "cell_type": "markdown",
   "metadata": {},
   "source": [
    "### <span style=\"color:steelblue\"> ¿Se pueden leer con Spark? </span>\n",
    "\n",
    "Ambos tipos de archivos se pueden leer en Spark, sin embargo, mientras lo JSON son legibles directamente los YAML deben ser transformados previamente a formato JSON."
   ]
  },
  {
   "cell_type": "markdown",
   "metadata": {},
   "source": [
    "### <span style=\"color:steelblue\"> ¿Qué tipo de bases de datos No SQL usa estructuras de datos similares? </span>\n",
    "\n",
    "MongoDB es un sistema de base de datos NoSQL,es documental, lo que significa que almacena datos en forma de documentos tipo JSON."
   ]
  },
  {
   "cell_type": "markdown",
   "metadata": {},
   "source": [
    "***"
   ]
  },
  {
   "cell_type": "markdown",
   "metadata": {},
   "source": [
    "### <span style=\"color:steelblue\"> Referencias </span>\n",
    "\n",
    "https://fercontreras.com/conoce-que-es-un-yaml-e18e9d21ade4\n",
    "\n",
    "https://es.wikipedia.org/wiki/YAML\n",
    "\n",
    "https://www.kaggle.com/abhishek/pretrained-models\n",
    "\n",
    "https://www.json.org/json-es.html\n",
    "\n",
    "https://es.wikipedia.org/wiki/JSON\n",
    "\n",
    "https://www.kaggle.com/census/income-gini-ratio-time-series-collection?select=income-gini-ratio-of-families-by-race-of-householder-white-alone_metadata.json\n",
    "\n",
    "https://www.mongodb.com/es\n",
    "\n",
    "https://es.wikipedia.org/wiki/MongoDB\n"
   ]
  }
 ],
 "metadata": {
  "kernelspec": {
   "display_name": "Python 3",
   "language": "python",
   "name": "python3"
  },
  "language_info": {
   "codemirror_mode": {
    "name": "ipython",
    "version": 3
   },
   "file_extension": ".py",
   "mimetype": "text/x-python",
   "name": "python",
   "nbconvert_exporter": "python",
   "pygments_lexer": "ipython3",
   "version": "3.8.3"
  }
 },
 "nbformat": 4,
 "nbformat_minor": 4
}
